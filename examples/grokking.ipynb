{
 "cells": [
  {
   "cell_type": "markdown",
   "metadata": {
    "id": "5wwbrhXCeP9Q"
   },
   "source": [
    "# Grokking\n",
    "\n",
    "[![Open In Colab](https://colab.research.google.com/assets/colab-badge.svg)](https://colab.research.google.com/github/timaeus-research/devinterp/blob/main/examples/grokking.ipynb)"
   ]
  },
  {
   "cell_type": "markdown",
   "metadata": {
    "id": "9S3pemU_eP9W"
   },
   "source": [
    "This notebook aims to show how LLC estimation is calibrated in a simple modular addition grokking example, showing a moderately interesting result at the end.\n",
    "\n",
    "We'll starting off with some standard grokking code, adapted loosely from Nina Panickssery and Dmitry Vaintrob's [modular addition learning coefficient post](https://www.alignmentforum.org/posts/4v3hMuKfsGatLXPgt/investigating-the-learning-coefficient-of-modular-addition) and [github code repo](https://github.com/nrimsky/devinterp). (Thank you for your help!)"
   ]
  },
  {
   "cell_type": "code",
   "execution_count": 1,
   "metadata": {
    "colab": {
     "base_uri": "https://localhost:8080/"
    },
    "id": "suJsw_j5eP9Y",
    "outputId": "17013fd2-6930-4305-af12-2a21e2feb98c"
   },
   "outputs": [
    {
     "name": "stdout",
     "output_type": "stream",
     "text": [
      "Requirement already satisfied: devinterp in /ibex/user/rossom/conda-environments/myenv/lib/python3.9/site-packages (1.3.2)\n",
      "Requirement already satisfied: nbformat in /ibex/user/rossom/conda-environments/myenv/lib/python3.9/site-packages (5.10.4)\n",
      "Requirement already satisfied: einops>=0.6.1 in /ibex/user/rossom/conda-environments/myenv/lib/python3.9/site-packages (from devinterp) (0.8.1)\n",
      "Requirement already satisfied: matplotlib>=3.7.5 in /ibex/user/rossom/conda-environments/myenv/lib/python3.9/site-packages (from devinterp) (3.9.2)\n",
      "Requirement already satisfied: numpy>=1.23.5 in /ibex/user/rossom/conda-environments/myenv/lib/python3.9/site-packages (from devinterp) (1.26.4)\n",
      "Requirement already satisfied: pandas>=1.5.3 in /ibex/user/rossom/conda-environments/myenv/lib/python3.9/site-packages (from devinterp) (2.2.2)\n",
      "Requirement already satisfied: torch>=2.0.1 in /ibex/user/rossom/conda-environments/myenv/lib/python3.9/site-packages (from devinterp) (2.4.1)\n",
      "Requirement already satisfied: tqdm>=4.65.0 in /ibex/user/rossom/conda-environments/myenv/lib/python3.9/site-packages (from devinterp) (4.66.5)\n",
      "Requirement already satisfied: cloudpickle>=3.0.0 in /ibex/user/rossom/conda-environments/myenv/lib/python3.9/site-packages (from devinterp) (3.1.1)\n",
      "Requirement already satisfied: fastjsonschema>=2.15 in /ibex/user/rossom/conda-environments/myenv/lib/python3.9/site-packages (from nbformat) (2.20.0)\n",
      "Requirement already satisfied: jsonschema>=2.6 in /ibex/user/rossom/conda-environments/myenv/lib/python3.9/site-packages (from nbformat) (4.23.0)\n",
      "Requirement already satisfied: jupyter-core!=5.0.*,>=4.12 in /ibex/user/rossom/conda-environments/myenv/lib/python3.9/site-packages (from nbformat) (5.7.2)\n",
      "Requirement already satisfied: traitlets>=5.1 in /ibex/user/rossom/conda-environments/myenv/lib/python3.9/site-packages (from nbformat) (5.14.3)\n",
      "Requirement already satisfied: attrs>=22.2.0 in /ibex/user/rossom/conda-environments/myenv/lib/python3.9/site-packages (from jsonschema>=2.6->nbformat) (24.2.0)\n",
      "Requirement already satisfied: jsonschema-specifications>=2023.03.6 in /ibex/user/rossom/conda-environments/myenv/lib/python3.9/site-packages (from jsonschema>=2.6->nbformat) (2023.12.1)\n",
      "Requirement already satisfied: referencing>=0.28.4 in /ibex/user/rossom/conda-environments/myenv/lib/python3.9/site-packages (from jsonschema>=2.6->nbformat) (0.35.1)\n",
      "Requirement already satisfied: rpds-py>=0.7.1 in /ibex/user/rossom/conda-environments/myenv/lib/python3.9/site-packages (from jsonschema>=2.6->nbformat) (0.20.0)\n",
      "Requirement already satisfied: platformdirs>=2.5 in /ibex/user/rossom/conda-environments/myenv/lib/python3.9/site-packages (from jupyter-core!=5.0.*,>=4.12->nbformat) (4.3.3)\n",
      "Requirement already satisfied: contourpy>=1.0.1 in /ibex/user/rossom/conda-environments/myenv/lib/python3.9/site-packages (from matplotlib>=3.7.5->devinterp) (1.3.0)\n",
      "Requirement already satisfied: cycler>=0.10 in /ibex/user/rossom/conda-environments/myenv/lib/python3.9/site-packages (from matplotlib>=3.7.5->devinterp) (0.12.1)\n",
      "Requirement already satisfied: fonttools>=4.22.0 in /ibex/user/rossom/conda-environments/myenv/lib/python3.9/site-packages (from matplotlib>=3.7.5->devinterp) (4.53.1)\n",
      "Requirement already satisfied: kiwisolver>=1.3.1 in /ibex/user/rossom/conda-environments/myenv/lib/python3.9/site-packages (from matplotlib>=3.7.5->devinterp) (1.4.7)\n",
      "Requirement already satisfied: packaging>=20.0 in /ibex/user/rossom/conda-environments/myenv/lib/python3.9/site-packages (from matplotlib>=3.7.5->devinterp) (24.1)\n",
      "Requirement already satisfied: pillow>=8 in /ibex/user/rossom/conda-environments/myenv/lib/python3.9/site-packages (from matplotlib>=3.7.5->devinterp) (9.4.0)\n",
      "Requirement already satisfied: pyparsing>=2.3.1 in /ibex/user/rossom/conda-environments/myenv/lib/python3.9/site-packages (from matplotlib>=3.7.5->devinterp) (3.1.4)\n",
      "Requirement already satisfied: python-dateutil>=2.7 in /ibex/user/rossom/conda-environments/myenv/lib/python3.9/site-packages (from matplotlib>=3.7.5->devinterp) (2.9.0)\n",
      "Requirement already satisfied: importlib-resources>=3.2.0 in /ibex/user/rossom/conda-environments/myenv/lib/python3.9/site-packages (from matplotlib>=3.7.5->devinterp) (6.4.5)\n",
      "Requirement already satisfied: zipp>=3.1.0 in /ibex/user/rossom/conda-environments/myenv/lib/python3.9/site-packages (from importlib-resources>=3.2.0->matplotlib>=3.7.5->devinterp) (3.20.2)\n",
      "Requirement already satisfied: pytz>=2020.1 in /ibex/user/rossom/conda-environments/myenv/lib/python3.9/site-packages (from pandas>=1.5.3->devinterp) (2024.2)\n",
      "Requirement already satisfied: tzdata>=2022.7 in /ibex/user/rossom/conda-environments/myenv/lib/python3.9/site-packages (from pandas>=1.5.3->devinterp) (2024.1)\n",
      "Requirement already satisfied: six>=1.5 in /ibex/user/rossom/conda-environments/myenv/lib/python3.9/site-packages (from python-dateutil>=2.7->matplotlib>=3.7.5->devinterp) (1.16.0)\n",
      "Requirement already satisfied: filelock in /ibex/user/rossom/conda-environments/myenv/lib/python3.9/site-packages (from torch>=2.0.1->devinterp) (3.16.0)\n",
      "Requirement already satisfied: typing-extensions>=4.8.0 in /ibex/user/rossom/conda-environments/myenv/lib/python3.9/site-packages (from torch>=2.0.1->devinterp) (4.12.2)\n",
      "Requirement already satisfied: sympy in /ibex/user/rossom/conda-environments/myenv/lib/python3.9/site-packages (from torch>=2.0.1->devinterp) (1.13.2)\n",
      "Requirement already satisfied: networkx in /ibex/user/rossom/conda-environments/myenv/lib/python3.9/site-packages (from torch>=2.0.1->devinterp) (3.2.1)\n",
      "Requirement already satisfied: jinja2 in /ibex/user/rossom/conda-environments/myenv/lib/python3.9/site-packages (from torch>=2.0.1->devinterp) (3.1.4)\n",
      "Requirement already satisfied: fsspec in /ibex/user/rossom/conda-environments/myenv/lib/python3.9/site-packages (from torch>=2.0.1->devinterp) (2024.9.0)\n",
      "Requirement already satisfied: MarkupSafe>=2.0 in /ibex/user/rossom/conda-environments/myenv/lib/python3.9/site-packages (from jinja2->torch>=2.0.1->devinterp) (2.1.5)\n",
      "Requirement already satisfied: mpmath<1.4,>=1.1.0 in /ibex/user/rossom/conda-environments/myenv/lib/python3.9/site-packages (from sympy->torch>=2.0.1->devinterp) (1.3.0)\n",
      "Note: you may need to restart the kernel to use updated packages.\n"
     ]
    }
   ],
   "source": [
    "%pip install devinterp nbformat"
   ]
  },
  {
   "cell_type": "code",
   "execution_count": 2,
   "metadata": {
    "id": "56I2aTSbeP9e"
   },
   "outputs": [],
   "source": [
    "import random\n",
    "from copy import deepcopy\n",
    "from dataclasses import dataclass\n",
    "\n",
    "import matplotlib.pyplot as plt\n",
    "import pandas as pd\n",
    "import torch\n",
    "import torch.nn as nn\n",
    "from torch.utils.data import DataLoader\n",
    "from tqdm import tqdm\n",
    "\n",
    "from devinterp.optim.sgld import SGLD\n",
    "from devinterp.slt.sampler import estimate_learning_coeff_with_summary\n",
    "from devinterp.utils import evaluate_ce\n",
    "\n",
    "DEVICE = \"cuda\" if torch.cuda.is_available() else \"cpu\""
   ]
  },
  {
   "cell_type": "code",
   "execution_count": 3,
   "metadata": {
    "id": "qvF8FyrLeP9g"
   },
   "outputs": [],
   "source": [
    "@dataclass\n",
    "class ExperimentParams:\n",
    "    p: int = 53\n",
    "    n_batches: int = 25000\n",
    "    n_save_model_checkpoints: int = 100\n",
    "    print_times: int = 100\n",
    "    lr: float = 0.005\n",
    "    batch_size: int = 128\n",
    "    hidden_size: int = 48\n",
    "    embed_dim: int = 12\n",
    "    train_frac: float = 0.4\n",
    "    # the shown grokking / llc curve behavior is robust to change of seed from my experiments, but not all seeds show grokking withying the first 100 checkpoints, NB!\n",
    "    random_seed: int = 0\n",
    "    device: str = DEVICE\n",
    "    weight_decay: float = 0.0002\n",
    "\n",
    "\n",
    "class MLP(nn.Module):\n",
    "    def __init__(self, params):\n",
    "        super().__init__()\n",
    "        self.embedding = nn.Embedding(params.p, params.embed_dim)\n",
    "        self.linear1r = nn.Linear(params.embed_dim, params.hidden_size, bias=True)\n",
    "        self.linear1l = nn.Linear(params.embed_dim, params.hidden_size, bias=True)\n",
    "        self.linear2 = nn.Linear(params.hidden_size, params.p, bias=False)\n",
    "        self.act = nn.GELU()\n",
    "        self.vocab_size = params.p\n",
    "\n",
    "    def forward(self, x):\n",
    "        x1 = self.embedding(x[..., 0])\n",
    "        x2 = self.embedding(x[..., 1])\n",
    "        x1 = self.linear1l(x1)\n",
    "        x2 = self.linear1r(x2)\n",
    "        x = x1 + x2\n",
    "        x = self.act(x)\n",
    "        x = self.linear2(x)\n",
    "        return x\n",
    "\n",
    "\n",
    "def test(model, dataset, device):\n",
    "    n_correct = 0\n",
    "    total_loss = 0\n",
    "    model.eval()\n",
    "    loss_fn = nn.CrossEntropyLoss()\n",
    "    with torch.no_grad():\n",
    "        for x, y in dataset:\n",
    "            x, y = x.to(device), y.to(device)\n",
    "            out = model(x)\n",
    "            loss = loss_fn(out, y)\n",
    "            total_loss += loss.item()\n",
    "            pred = torch.argmax(out)\n",
    "            if pred == y:\n",
    "                n_correct += 1\n",
    "    return n_correct / len(dataset), total_loss / len(dataset)\n",
    "\n",
    "\n",
    "def train(train_dataset, test_dataset, params, verbose=True):\n",
    "    all_models = []\n",
    "    model = MLP(params).to(params.device)\n",
    "    optimizer = torch.optim.Adam(\n",
    "        model.parameters(), weight_decay=params.weight_decay, lr=params.lr\n",
    "    )\n",
    "    loss_fn = torch.nn.CrossEntropyLoss()\n",
    "\n",
    "    train_loader = DataLoader(train_dataset, batch_size=params.batch_size, shuffle=True)\n",
    "\n",
    "    print_every = params.n_batches // params.print_times\n",
    "    checkpoint_every = None\n",
    "    if params.n_save_model_checkpoints > 0:\n",
    "        checkpoint_every = params.n_batches // params.n_save_model_checkpoints\n",
    "\n",
    "    loss_data = []\n",
    "    if verbose:\n",
    "        pbar = tqdm(total=params.n_batches, desc=\"Training\")\n",
    "    for i in range(params.n_batches):\n",
    "        # Sample random batch of data\n",
    "        batch = next(iter(train_loader))\n",
    "        X, Y = batch\n",
    "        X, Y = X.to(params.device), Y.to(params.device)\n",
    "        # Gradient update\n",
    "        optimizer.zero_grad()\n",
    "        out = model(X)\n",
    "        loss = loss_fn(out, Y)\n",
    "        loss.backward()\n",
    "        optimizer.step()\n",
    "\n",
    "        if checkpoint_every and (i + 1) % checkpoint_every == 0:\n",
    "            all_models += [deepcopy(model)]\n",
    "\n",
    "        if (i + 1) % print_every == 0:\n",
    "            val_acc, val_loss = test(model, test_dataset, params.device)\n",
    "            train_acc, train_loss = test(model, train_dataset, params.device)\n",
    "            loss_data.append(\n",
    "                {\n",
    "                    \"batch\": i + 1,\n",
    "                    \"train_loss\": train_loss,\n",
    "                    \"train_acc\": train_acc,\n",
    "                    \"val_loss\": val_loss,\n",
    "                    \"val_acc\": val_acc,\n",
    "                }\n",
    "            )\n",
    "            if verbose:\n",
    "                pbar.set_postfix(\n",
    "                    {\n",
    "                        \"train_loss\": f\"{train_loss:.4f}\",\n",
    "                        \"train_acc\": f\"{train_acc:.4f}\",\n",
    "                        \"val_loss\": f\"{val_loss:.4f}\",\n",
    "                        \"val_acc\": f\"{val_acc:.4f}\",\n",
    "                    }\n",
    "                )\n",
    "                pbar.update(print_every)\n",
    "    if verbose:\n",
    "        pbar.close()\n",
    "    df = pd.DataFrame(loss_data)\n",
    "    train_acc, train_loss = test(model, train_dataset, params.device)\n",
    "    val_acc, val_loss = test(model, test_dataset, params.device)\n",
    "    if verbose:\n",
    "        print(f\"Final Train Acc: {val_acc:.4f} | Final Train Loss: {val_loss:.4f}\")\n",
    "        print(f\"Final Val Acc: {val_acc:.4f} | Final Val Loss: {val_loss:.4f}\")\n",
    "    return all_models, df\n",
    "\n",
    "\n",
    "def deterministic_shuffle(lst, seed):\n",
    "    random.seed(seed)\n",
    "    random.shuffle(lst)\n",
    "    return lst\n",
    "\n",
    "\n",
    "def get_all_pairs(p):\n",
    "    pairs = []\n",
    "    for i in range(p):\n",
    "        for j in range(p):\n",
    "            pairs.append((i, j))\n",
    "    return set(pairs)\n",
    "\n",
    "\n",
    "def make_dataset(p):\n",
    "    data = []\n",
    "    pairs = get_all_pairs(p)\n",
    "    for a, b in pairs:\n",
    "        data.append((torch.tensor([a, b]), torch.tensor((a + b) % p)))\n",
    "    return data\n",
    "\n",
    "\n",
    "def train_test_split(dataset, train_split_proportion, seed):\n",
    "    l = len(dataset)\n",
    "    train_len = int(train_split_proportion * l)\n",
    "    idx = list(range(l))\n",
    "    idx = deterministic_shuffle(idx, seed)\n",
    "    train_idx = idx[:train_len]\n",
    "    test_idx = idx[train_len:]\n",
    "    return [dataset[i] for i in train_idx], [dataset[i] for i in test_idx]"
   ]
  },
  {
   "cell_type": "code",
   "execution_count": 4,
   "metadata": {
    "colab": {
     "base_uri": "https://localhost:8080/"
    },
    "id": "4xVu2IN7eP9o",
    "outputId": "da84ba29-4b2a-46c7-d4ea-9f5c4f338366"
   },
   "outputs": [
    {
     "name": "stderr",
     "output_type": "stream",
     "text": [
      "Training: 100%|██████████| 25000/25000 [03:13<00:00, 129.36it/s, train_loss=0.0137, train_acc=1.0000, val_loss=0.0395, val_acc=1.0000] \n"
     ]
    },
    {
     "name": "stdout",
     "output_type": "stream",
     "text": [
      "Final Train Acc: 1.0000 | Final Train Loss: 0.0395\n",
      "Final Val Acc: 1.0000 | Final Val Loss: 0.0395\n"
     ]
    }
   ],
   "source": [
    "params = ExperimentParams()\n",
    "torch.manual_seed(params.random_seed)\n",
    "\n",
    "dataset = make_dataset(params.p)\n",
    "train_data, test_data = train_test_split(dataset, params.train_frac, params.random_seed)\n",
    "\n",
    "all_checkpointed_models, df = train(\n",
    "    train_dataset=train_data, test_dataset=test_data, params=params\n",
    ")"
   ]
  },
  {
   "cell_type": "code",
   "execution_count": 37,
   "metadata": {
    "colab": {
     "base_uri": "https://localhost:8080/",
     "height": 490
    },
    "id": "U4NIjv3oeP9s",
    "outputId": "957d56b3-e487-4665-f713-6e307e96830f"
   },
   "outputs": [
    {
     "data": {
      "image/png": "[encoded data removed]",
      "text/plain": [
       "<Figure size 640x480 with 1 Axes>"
      ]
     },
     "metadata": {},
     "output_type": "display_data"
    }
   ],
   "source": [
    "plt.plot(df[\"val_acc\"], label=\"Test\")\n",
    "plt.plot(df[\"train_acc\"], label=\"Train\")\n",
    "plt.legend()\n",
    "plt.ylabel(\"Accuracy %\")\n",
    "plt.xlabel(\"Checkpoint\")\n",
    "plt.title(f\"Train/Test accuracy for modular addition (p={params.p})\")\n",
    "plt.savefig(f'grokking_accuracy.pdf', dpi=300, bbox_inches='tight')"
   ]
  },
  {
   "cell_type": "markdown",
   "metadata": {
    "id": "dII4gLo6eP9u"
   },
   "source": [
    "From this plot, we see the classic grokking behavior: although the train accuracy is perfect after a few iterations, it takes many more examples for the test accuracy to meaningfully improve. (Note that this is not the same statement as train loss being perfect, see below plot.)"
   ]
  },
  {
   "cell_type": "code",
   "execution_count": 47,
   "metadata": {
    "colab": {
     "base_uri": "https://localhost:8080/",
     "height": 490
    },
    "id": "LJ25wEvreP9w",
    "outputId": "06fcfff0-59f3-49b9-eec0-c129c7a6c0f4"
   },
   "outputs": [
    {
     "data": {
      "text/plain": [
       "Text(0.5, 1.0, 'Train & test loss for modular addition with p=53')"
      ]
     },
     "execution_count": 47,
     "metadata": {},
     "output_type": "execute_result"
    },
    {
     "data": {
      "image/png": "[encoded data removed]",
      "text/plain": [
       "<Figure size 640x480 with 1 Axes>"
      ]
     },
     "metadata": {},
     "output_type": "display_data"
    }
   ],
   "source": [
    "plt.plot(df[\"val_loss\"], label=\"test\")\n",
    "plt.plot(df[\"train_loss\"], label=\"train\")\n",
    "plt.legend()\n",
    "plt.ylabel(\"Loss\")\n",
    "plt.xlabel(\"Checkpoint\")\n",
    "plt.title(f\"Train & test loss for modular addition with p={params.p}\")"
   ]
  },
  {
   "cell_type": "code",
   "execution_count": 57,
   "metadata": {},
   "outputs": [
    {
     "data": {
      "image/png": "[encoded data removed]",
      "text/plain": [
       "<Figure size 600x300 with 2 Axes>"
      ]
     },
     "metadata": {},
     "output_type": "display_data"
    }
   ],
   "source": [
    "fig, axs = plt.subplots(1, 2, figsize=(6, 3))  # 1 row, 2 columns\n",
    "\n",
    "# --- First subplot: Accuracy ---\n",
    "axs[0].plot(df[\"val_acc\"], label=\"Test\")\n",
    "axs[0].plot(df[\"train_acc\"], label=\"Train\")\n",
    "axs[0].legend()\n",
    "axs[0].set_ylabel(\"Accuracy %\")\n",
    "axs[0].set_xlabel(\"Checkpoint\")\n",
    "axs[0].set_title(f\"Train/Test Accuracy (p={params.p})\")\n",
    "\n",
    "# --- Second subplot: Loss ---\n",
    "axs[1].plot(df[\"val_loss\"], label=\"Test\")\n",
    "axs[1].plot(df[\"train_loss\"], label=\"Train\")\n",
    "axs[1].legend()\n",
    "axs[1].set_ylabel(\"Loss\")\n",
    "axs[1].set_xlabel(\"Checkpoint\")\n",
    "axs[1].set_title(f\"Train/Test Loss (p={params.p})\")\n",
    "\n",
    "# --- Save the merged figure ---\n",
    "plt.tight_layout()\n",
    "plt.savefig(f'grokking_train.pdf', dpi=300, bbox_inches='tight')\n",
    "plt.show()"
   ]
  },
  {
   "cell_type": "markdown",
   "metadata": {
    "id": "1WvYf-UZeP92"
   },
   "source": [
    "## LLC estimation hyperparameter tuning"
   ]
  },
  {
   "cell_type": "markdown",
   "metadata": {
    "id": "bP4h1UJEeP94"
   },
   "source": [
    "In order to get LLC estimates for this simple grokking model over training, we first need to choose hyperparameters. The most important ones to calibrate are epsilon (the SGLD learning rate / step size) and n\\*beta (the effective inverse temperature). Let's run a quick sweep over a wide range of epsilon and n\\*beta, and look for a range of values within this which shows little change in LLC change in LLC values when we change epsilon and nbeta. We can use `devinterp.vis_utils.EpsilonBetaAnalyzer` for this."
   ]
  },
  {
   "cell_type": "code",
   "execution_count": 38,
   "metadata": {
    "id": "MCGWHjNkeP96"
   },
   "outputs": [],
   "source": [
    "import typing\n",
    "from typing import Type\n",
    "\n",
    "import numpy as np\n",
    "\n",
    "\n",
    "def estimate_llc_given_model(\n",
    "    model: torch.nn.Module,\n",
    "    loader: torch.utils.data.DataLoader,\n",
    "    evaluate: typing.Callable,\n",
    "    epsilon: float,\n",
    "    beta: float,\n",
    "    sampling_method: Type[torch.optim.Optimizer] = SGLD,\n",
    "    localization: float = 5.0,\n",
    "    num_chains: int = 2,\n",
    "    num_draws: int = 500,\n",
    "    num_burnin_steps: int = 0,\n",
    "    num_steps_bw_draws: int = 1,\n",
    "    device: torch.device = DEVICE,\n",
    "    online: bool = True,\n",
    "    verbose: bool = False,\n",
    "):\n",
    "    sweep_stats = estimate_learning_coeff_with_summary(\n",
    "        model,\n",
    "        loader=loader,\n",
    "        evaluate=evaluate,\n",
    "        sampling_method=sampling_method,\n",
    "        optimizer_kwargs=dict(lr=epsilon, localization=localization, nbeta=beta),\n",
    "        num_chains=num_chains,  # How many independent chains to run\n",
    "        num_draws=num_draws,  # How many samples to draw per chain\n",
    "        num_burnin_steps=num_burnin_steps,  # How many samples to discard at the beginning of each chain\n",
    "        num_steps_bw_draws=num_steps_bw_draws,  # How many steps to take between each sample\n",
    "        device=device,\n",
    "        online=online,\n",
    "        verbose=verbose,\n",
    "    )\n",
    "\n",
    "    sweep_stats[\"llc/trace\"] = np.array(sweep_stats[\"llc/trace\"])\n",
    "    return sweep_stats"
   ]
  },
  {
   "cell_type": "code",
   "execution_count": 39,
   "metadata": {
    "colab": {
     "base_uri": "https://localhost:8080/"
    },
    "id": "8NnCyNGueP99",
    "outputId": "388e75e3-dadb-4c9d-9fed-88bac739fa88"
   },
   "outputs": [
    {
     "name": "stderr",
     "output_type": "stream",
     "text": [
      "/ibex/user/rossom/conda-environments/myenv/lib/python3.9/site-packages/devinterp/vis_utils.py:99: UserWarning: Epsilon values greater than 1e-2 typically lead to instability in the sampling process. Consider reducing epsilon to between 1e-6 and 1e-2.\n",
      "  warnings.warn(\n",
      "  0%|          | 0/25 [00:00<?, ?it/s]/ibex/user/rossom/conda-environments/myenv/lib/python3.9/site-packages/devinterp/slt/sampler.py:117: UserWarning: Using passed in nbeta. Make sure callbacks are also initialized with the same nbeta.\n",
      "  warnings.warn(\n",
      "/ibex/user/rossom/conda-environments/myenv/lib/python3.9/site-packages/devinterp/backends/default/slt/sampler.py:240: UserWarning: You are taking more draws than burn-in steps, your LLC estimates will likely be underestimates. Please check LLC chain convergence.\n",
      "  warnings.warn(\n",
      "/ibex/user/rossom/conda-environments/myenv/lib/python3.9/site-packages/devinterp/backends/default/slt/sampler.py:244: UserWarning: You are taking more sample batches than there are dataloader batches available, this removes some randomness from sampling but is probably fine. (All sample batches beyond the number dataloader batches are cycled from the start, f.e. 9 samples from [A, B, C] would be [B, A, C, B, A, C, B, A, C].)\n",
      "  warnings.warn(\n",
      "/ibex/user/rossom/conda-environments/myenv/lib/python3.9/site-packages/devinterp/backends/default/slt/sampler.py:285: UserWarning: If you're setting a nbeta or temperature in optimizer_kwargs, please also make sure to set it in the callbacks.\n",
      "  warnings.warn(\n",
      "/ibex/user/rossom/conda-environments/myenv/lib/python3.9/site-packages/devinterp/backends/default/slt/sampler.py:52: UserWarning: You are taking more sample batches than there are dataloader batches available, this removes some randomness from sampling but is probably fine. (All sample batches beyond the number dataloader batches are cycled from the start, f.e. 9 samples from [A, B, C] would be [B, A, C, B, A, C, B, A, C].)\n",
      "  warnings.warn(\n",
      " 56%|█████▌    | 14/25 [00:50<00:39,  3.57s/it]/ibex/user/rossom/conda-environments/myenv/lib/python3.9/site-packages/devinterp/vis_utils.py:211: UserWarning: Error encountered for epsilon=0.003000000000000001, beta=26380.709319112477. Skipping. Warning: NaN detected in loss at chain 0, draw 6\n",
      "  warnings.warn(\n",
      " 72%|███████▏  | 18/25 [01:01<00:22,  3.28s/it]/ibex/user/rossom/conda-environments/myenv/lib/python3.9/site-packages/devinterp/vis_utils.py:211: UserWarning: Error encountered for epsilon=0.030000000000000013, beta=1483.4963037971102. Skipping. Warning: NaN detected in loss at chain 0, draw 7\n",
      "  warnings.warn(\n",
      " 76%|███████▌  | 19/25 [01:02<00:14,  2.44s/it]/ibex/user/rossom/conda-environments/myenv/lib/python3.9/site-packages/devinterp/vis_utils.py:211: UserWarning: Error encountered for epsilon=0.030000000000000013, beta=26380.709319112477. Skipping. Warning: NaN detected in loss at chain 0, draw 4\n",
      "  warnings.warn(\n",
      " 88%|████████▊ | 22/25 [01:09<00:08,  2.76s/it]/ibex/user/rossom/conda-environments/myenv/lib/python3.9/site-packages/devinterp/vis_utils.py:211: UserWarning: Error encountered for epsilon=0.29999999999999993, beta=83.42312773922517. Skipping. Warning: NaN detected in loss at chain 0, draw 7\n",
      "  warnings.warn(\n",
      " 92%|█████████▏| 23/25 [01:10<00:04,  2.07s/it]/ibex/user/rossom/conda-environments/myenv/lib/python3.9/site-packages/devinterp/vis_utils.py:211: UserWarning: Error encountered for epsilon=0.29999999999999993, beta=1483.4963037971102. Skipping. Warning: NaN detected in loss at chain 0, draw 5\n",
      "  warnings.warn(\n",
      " 96%|█████████▌| 24/25 [01:10<00:01,  1.59s/it]/ibex/user/rossom/conda-environments/myenv/lib/python3.9/site-packages/devinterp/vis_utils.py:211: UserWarning: Error encountered for epsilon=0.29999999999999993, beta=26380.709319112477. Skipping. Warning: NaN detected in loss at chain 0, draw 4\n",
      "  warnings.warn(\n",
      "100%|██████████| 25/25 [01:11<00:00,  2.85s/it]\n"
     ]
    }
   ],
   "source": [
    "from devinterp.vis_utils import EpsilonBetaAnalyzer\n",
    "\n",
    "loader = DataLoader(train_data, shuffle=True, batch_size=params.batch_size)\n",
    "analyzer = EpsilonBetaAnalyzer()\n",
    "analyzer.configure_sweep(\n",
    "    llc_estimator=estimate_llc_given_model,\n",
    "    llc_estimator_kwargs=dict(\n",
    "        model=all_checkpointed_models[-1],\n",
    "        evaluate=evaluate_ce,\n",
    "        device=DEVICE,\n",
    "        loader=loader,\n",
    "    ),\n",
    "    min_epsilon=3e-5,\n",
    "    max_epsilon=3e-1,\n",
    "    epsilon_samples=5,\n",
    "    min_beta=None,\n",
    "    max_beta=None,\n",
    "    beta_samples=5,\n",
    "    dataloader=loader,\n",
    ")\n",
    "analyzer.sweep()"
   ]
  },
  {
   "cell_type": "code",
   "execution_count": 40,
   "metadata": {
    "colab": {
     "base_uri": "https://localhost:8080/",
     "height": 542
    },
    "id": "TTP1vX3EeP9_",
    "outputId": "5a42fc43-901c-4001-9b49-6af99cd5eb2a"
   },
   "outputs": [
    {
     "data": {
      "application/vnd.plotly.v1+json": {
       "config": {
        "plotlyServerURL": "https://plot.ly"
       },
       "data": [
        {
         "hovertemplate": "epsilon=%{x}<br>beta=%{y}<br>llc/final=%{z}<br>llc/std_over_mean=%{marker.color}<extra></extra>",
         "legendgroup": "",
         "marker": {
          "color": {
           "bdata": "P+FdPuoNRD6PlWg+pTY+PnGduT6H5uw9axfEPRFTvD0aJUc+8ZOUQfoi1z1fr4M9cGXkPcKysz5qULc9vUOtPZ5WuD28BqE9qqeqPQ==",
           "dtype": "f4"
          },
          "coloraxis": "coloraxis",
          "symbol": "circle"
         },
         "mode": "markers",
         "name": "",
         "scene": "scene",
         "showlegend": false,
         "type": "scatter3d",
         "x": {
          "bdata": "bB1VTRB1/z5sHVVNEHX/PmwdVU0Qdf8+bB1VTRB1/z5sHVVNEHX/PmQyVTAqqTM/ZDJVMCqpMz9kMlUwKqkzP2QyVTAqqTM/ZDJVMCqpMz/8fmq8dJNoP/x+arx0k2g//H5qvHSTaD/8fmq8dJNoP7wehetRuJ4/vB6F61G4nj+8HoXrUbiePzIzMzMzM9M/MjMzMzMz0z8=",
          "dtype": "f8"
         },
         "y": {
          "bdata": "bVttJTfi0D8alIcR0cMSQCmAXoYU21RA4AUQN/wtl0Ch/XtlLcPZQG1bbSU34tA/GpSHEdHDEkApgF6GFNtUQOAFEDf8LZdAof17ZS3D2UBtW20lN+LQPxqUhxHRwxJAKYBehhTbVEDgBRA3/C2XQG1bbSU34tA/GpSHEdHDEkApgF6GFNtUQG1bbSU34tA/GpSHEdHDEkA=",
          "dtype": "f8"
         },
         "z": {
          "bdata": "MpiZPYdKpj+Woa9BOosQQ7lZ30IRw9o/pnITQkrFXEOA/WpDEAJ0wuJHaUDquFxCABmVQ6GBIURgIWdAbkVaQk5Ix0PdNM9AOgffQg==",
          "dtype": "f4"
         }
        }
       ],
       "layout": {
        "coloraxis": {
         "cmax": 0.15,
         "cmin": 0,
         "colorbar": {
          "title": {
           "text": "llc/std_over_mean"
          }
         },
         "colorscale": [
          [
           0,
           "#0d0887"
          ],
          [
           0.1111111111111111,
           "#46039f"
          ],
          [
           0.2222222222222222,
           "#7201a8"
          ],
          [
           0.3333333333333333,
           "#9c179e"
          ],
          [
           0.4444444444444444,
           "#bd3786"
          ],
          [
           0.5555555555555556,
           "#d8576b"
          ],
          [
           0.6666666666666666,
           "#ed7953"
          ],
          [
           0.7777777777777778,
           "#fb9f3a"
          ],
          [
           0.8888888888888888,
           "#fdca26"
          ],
          [
           1,
           "#f0f921"
          ]
         ]
        },
        "legend": {
         "tracegroupgap": 0
        },
        "scene": {
         "domain": {
          "x": [
           0,
           1
          ],
          "y": [
           0,
           1
          ]
         },
         "xaxis": {
          "title": {
           "text": "epsilon"
          },
          "type": "log"
         },
         "yaxis": {
          "title": {
           "text": "beta"
          },
          "type": "log"
         },
         "zaxis": {
          "title": {
           "text": "llc/final"
          },
          "type": "log"
         }
        },
        "template": {
         "data": {
          "bar": [
           {
            "error_x": {
             "color": "#2a3f5f"
            },
            "error_y": {
             "color": "#2a3f5f"
            },
            "marker": {
             "line": {
              "color": "#E5ECF6",
              "width": 0.5
             },
             "pattern": {
              "fillmode": "overlay",
              "size": 10,
              "solidity": 0.2
             }
            },
            "type": "bar"
           }
          ],
          "barpolar": [
           {
            "marker": {
             "line": {
              "color": "#E5ECF6",
              "width": 0.5
             },
             "pattern": {
              "fillmode": "overlay",
              "size": 10,
              "solidity": 0.2
             }
            },
            "type": "barpolar"
           }
          ],
          "carpet": [
           {
            "aaxis": {
             "endlinecolor": "#2a3f5f",
             "gridcolor": "white",
             "linecolor": "white",
             "minorgridcolor": "white",
             "startlinecolor": "#2a3f5f"
            },
            "baxis": {
             "endlinecolor": "#2a3f5f",
             "gridcolor": "white",
             "linecolor": "white",
             "minorgridcolor": "white",
             "startlinecolor": "#2a3f5f"
            },
            "type": "carpet"
           }
          ],
          "choropleth": [
           {
            "colorbar": {
             "outlinewidth": 0,
             "ticks": ""
            },
            "type": "choropleth"
           }
          ],
          "contour": [
           {
            "colorbar": {
             "outlinewidth": 0,
             "ticks": ""
            },
            "colorscale": [
             [
              0,
              "#0d0887"
             ],
             [
              0.1111111111111111,
              "#46039f"
             ],
             [
              0.2222222222222222,
              "#7201a8"
             ],
             [
              0.3333333333333333,
              "#9c179e"
             ],
             [
              0.4444444444444444,
              "#bd3786"
             ],
             [
              0.5555555555555556,
              "#d8576b"
             ],
             [
              0.6666666666666666,
              "#ed7953"
             ],
             [
              0.7777777777777778,
              "#fb9f3a"
             ],
             [
              0.8888888888888888,
              "#fdca26"
             ],
             [
              1,
              "#f0f921"
             ]
            ],
            "type": "contour"
           }
          ],
          "contourcarpet": [
           {
            "colorbar": {
             "outlinewidth": 0,
             "ticks": ""
            },
            "type": "contourcarpet"
           }
          ],
          "heatmap": [
           {
            "colorbar": {
             "outlinewidth": 0,
             "ticks": ""
            },
            "colorscale": [
             [
              0,
              "#0d0887"
             ],
             [
              0.1111111111111111,
              "#46039f"
             ],
             [
              0.2222222222222222,
              "#7201a8"
             ],
             [
              0.3333333333333333,
              "#9c179e"
             ],
             [
              0.4444444444444444,
              "#bd3786"
             ],
             [
              0.5555555555555556,
              "#d8576b"
             ],
             [
              0.6666666666666666,
              "#ed7953"
             ],
             [
              0.7777777777777778,
              "#fb9f3a"
             ],
             [
              0.8888888888888888,
              "#fdca26"
             ],
             [
              1,
              "#f0f921"
             ]
            ],
            "type": "heatmap"
           }
          ],
          "histogram": [
           {
            "marker": {
             "pattern": {
              "fillmode": "overlay",
              "size": 10,
              "solidity": 0.2
             }
            },
            "type": "histogram"
           }
          ],
          "histogram2d": [
           {
            "colorbar": {
             "outlinewidth": 0,
             "ticks": ""
            },
            "colorscale": [
             [
              0,
              "#0d0887"
             ],
             [
              0.1111111111111111,
              "#46039f"
             ],
             [
              0.2222222222222222,
              "#7201a8"
             ],
             [
              0.3333333333333333,
              "#9c179e"
             ],
             [
              0.4444444444444444,
              "#bd3786"
             ],
             [
              0.5555555555555556,
              "#d8576b"
             ],
             [
              0.6666666666666666,
              "#ed7953"
             ],
             [
              0.7777777777777778,
              "#fb9f3a"
             ],
             [
              0.8888888888888888,
              "#fdca26"
             ],
             [
              1,
              "#f0f921"
             ]
            ],
            "type": "histogram2d"
           }
          ],
          "histogram2dcontour": [
           {
            "colorbar": {
             "outlinewidth": 0,
             "ticks": ""
            },
            "colorscale": [
             [
              0,
              "#0d0887"
             ],
             [
              0.1111111111111111,
              "#46039f"
             ],
             [
              0.2222222222222222,
              "#7201a8"
             ],
             [
              0.3333333333333333,
              "#9c179e"
             ],
             [
              0.4444444444444444,
              "#bd3786"
             ],
             [
              0.5555555555555556,
              "#d8576b"
             ],
             [
              0.6666666666666666,
              "#ed7953"
             ],
             [
              0.7777777777777778,
              "#fb9f3a"
             ],
             [
              0.8888888888888888,
              "#fdca26"
             ],
             [
              1,
              "#f0f921"
             ]
            ],
            "type": "histogram2dcontour"
           }
          ],
          "mesh3d": [
           {
            "colorbar": {
             "outlinewidth": 0,
             "ticks": ""
            },
            "type": "mesh3d"
           }
          ],
          "parcoords": [
           {
            "line": {
             "colorbar": {
              "outlinewidth": 0,
              "ticks": ""
             }
            },
            "type": "parcoords"
           }
          ],
          "pie": [
           {
            "automargin": true,
            "type": "pie"
           }
          ],
          "scatter": [
           {
            "fillpattern": {
             "fillmode": "overlay",
             "size": 10,
             "solidity": 0.2
            },
            "type": "scatter"
           }
          ],
          "scatter3d": [
           {
            "line": {
             "colorbar": {
              "outlinewidth": 0,
              "ticks": ""
             }
            },
            "marker": {
             "colorbar": {
              "outlinewidth": 0,
              "ticks": ""
             }
            },
            "type": "scatter3d"
           }
          ],
          "scattercarpet": [
           {
            "marker": {
             "colorbar": {
              "outlinewidth": 0,
              "ticks": ""
             }
            },
            "type": "scattercarpet"
           }
          ],
          "scattergeo": [
           {
            "marker": {
             "colorbar": {
              "outlinewidth": 0,
              "ticks": ""
             }
            },
            "type": "scattergeo"
           }
          ],
          "scattergl": [
           {
            "marker": {
             "colorbar": {
              "outlinewidth": 0,
              "ticks": ""
             }
            },
            "type": "scattergl"
           }
          ],
          "scattermap": [
           {
            "marker": {
             "colorbar": {
              "outlinewidth": 0,
              "ticks": ""
             }
            },
            "type": "scattermap"
           }
          ],
          "scattermapbox": [
           {
            "marker": {
             "colorbar": {
              "outlinewidth": 0,
              "ticks": ""
             }
            },
            "type": "scattermapbox"
           }
          ],
          "scatterpolar": [
           {
            "marker": {
             "colorbar": {
              "outlinewidth": 0,
              "ticks": ""
             }
            },
            "type": "scatterpolar"
           }
          ],
          "scatterpolargl": [
           {
            "marker": {
             "colorbar": {
              "outlinewidth": 0,
              "ticks": ""
             }
            },
            "type": "scatterpolargl"
           }
          ],
          "scatterternary": [
           {
            "marker": {
             "colorbar": {
              "outlinewidth": 0,
              "ticks": ""
             }
            },
            "type": "scatterternary"
           }
          ],
          "surface": [
           {
            "colorbar": {
             "outlinewidth": 0,
             "ticks": ""
            },
            "colorscale": [
             [
              0,
              "#0d0887"
             ],
             [
              0.1111111111111111,
              "#46039f"
             ],
             [
              0.2222222222222222,
              "#7201a8"
             ],
             [
              0.3333333333333333,
              "#9c179e"
             ],
             [
              0.4444444444444444,
              "#bd3786"
             ],
             [
              0.5555555555555556,
              "#d8576b"
             ],
             [
              0.6666666666666666,
              "#ed7953"
             ],
             [
              0.7777777777777778,
              "#fb9f3a"
             ],
             [
              0.8888888888888888,
              "#fdca26"
             ],
             [
              1,
              "#f0f921"
             ]
            ],
            "type": "surface"
           }
          ],
          "table": [
           {
            "cells": {
             "fill": {
              "color": "#EBF0F8"
             },
             "line": {
              "color": "white"
             }
            },
            "header": {
             "fill": {
              "color": "#C8D4E3"
             },
             "line": {
              "color": "white"
             }
            },
            "type": "table"
           }
          ]
         },
         "layout": {
          "annotationdefaults": {
           "arrowcolor": "#2a3f5f",
           "arrowhead": 0,
           "arrowwidth": 1
          },
          "autotypenumbers": "strict",
          "coloraxis": {
           "colorbar": {
            "outlinewidth": 0,
            "ticks": ""
           }
          },
          "colorscale": {
           "diverging": [
            [
             0,
             "#8e0152"
            ],
            [
             0.1,
             "#c51b7d"
            ],
            [
             0.2,
             "#de77ae"
            ],
            [
             0.3,
             "#f1b6da"
            ],
            [
             0.4,
             "#fde0ef"
            ],
            [
             0.5,
             "#f7f7f7"
            ],
            [
             0.6,
             "#e6f5d0"
            ],
            [
             0.7,
             "#b8e186"
            ],
            [
             0.8,
             "#7fbc41"
            ],
            [
             0.9,
             "#4d9221"
            ],
            [
             1,
             "#276419"
            ]
           ],
           "sequential": [
            [
             0,
             "#0d0887"
            ],
            [
             0.1111111111111111,
             "#46039f"
            ],
            [
             0.2222222222222222,
             "#7201a8"
            ],
            [
             0.3333333333333333,
             "#9c179e"
            ],
            [
             0.4444444444444444,
             "#bd3786"
            ],
            [
             0.5555555555555556,
             "#d8576b"
            ],
            [
             0.6666666666666666,
             "#ed7953"
            ],
            [
             0.7777777777777778,
             "#fb9f3a"
            ],
            [
             0.8888888888888888,
             "#fdca26"
            ],
            [
             1,
             "#f0f921"
            ]
           ],
           "sequentialminus": [
            [
             0,
             "#0d0887"
            ],
            [
             0.1111111111111111,
             "#46039f"
            ],
            [
             0.2222222222222222,
             "#7201a8"
            ],
            [
             0.3333333333333333,
             "#9c179e"
            ],
            [
             0.4444444444444444,
             "#bd3786"
            ],
            [
             0.5555555555555556,
             "#d8576b"
            ],
            [
             0.6666666666666666,
             "#ed7953"
            ],
            [
             0.7777777777777778,
             "#fb9f3a"
            ],
            [
             0.8888888888888888,
             "#fdca26"
            ],
            [
             1,
             "#f0f921"
            ]
           ]
          },
          "colorway": [
           "#636efa",
           "#EF553B",
           "#00cc96",
           "#ab63fa",
           "#FFA15A",
           "#19d3f3",
           "#FF6692",
           "#B6E880",
           "#FF97FF",
           "#FECB52"
          ],
          "font": {
           "color": "#2a3f5f"
          },
          "geo": {
           "bgcolor": "white",
           "lakecolor": "white",
           "landcolor": "#E5ECF6",
           "showlakes": true,
           "showland": true,
           "subunitcolor": "white"
          },
          "hoverlabel": {
           "align": "left"
          },
          "hovermode": "closest",
          "mapbox": {
           "style": "light"
          },
          "paper_bgcolor": "white",
          "plot_bgcolor": "#E5ECF6",
          "polar": {
           "angularaxis": {
            "gridcolor": "white",
            "linecolor": "white",
            "ticks": ""
           },
           "bgcolor": "#E5ECF6",
           "radialaxis": {
            "gridcolor": "white",
            "linecolor": "white",
            "ticks": ""
           }
          },
          "scene": {
           "xaxis": {
            "backgroundcolor": "#E5ECF6",
            "gridcolor": "white",
            "gridwidth": 2,
            "linecolor": "white",
            "showbackground": true,
            "ticks": "",
            "zerolinecolor": "white"
           },
           "yaxis": {
            "backgroundcolor": "#E5ECF6",
            "gridcolor": "white",
            "gridwidth": 2,
            "linecolor": "white",
            "showbackground": true,
            "ticks": "",
            "zerolinecolor": "white"
           },
           "zaxis": {
            "backgroundcolor": "#E5ECF6",
            "gridcolor": "white",
            "gridwidth": 2,
            "linecolor": "white",
            "showbackground": true,
            "ticks": "",
            "zerolinecolor": "white"
           }
          },
          "shapedefaults": {
           "line": {
            "color": "#2a3f5f"
           }
          },
          "ternary": {
           "aaxis": {
            "gridcolor": "white",
            "linecolor": "white",
            "ticks": ""
           },
           "baxis": {
            "gridcolor": "white",
            "linecolor": "white",
            "ticks": ""
           },
           "bgcolor": "#E5ECF6",
           "caxis": {
            "gridcolor": "white",
            "linecolor": "white",
            "ticks": ""
           }
          },
          "title": {
           "x": 0.05
          },
          "xaxis": {
           "automargin": true,
           "gridcolor": "white",
           "linecolor": "white",
           "ticks": "",
           "title": {
            "standoff": 15
           },
           "zerolinecolor": "white",
           "zerolinewidth": 2
          },
          "yaxis": {
           "automargin": true,
           "gridcolor": "white",
           "linecolor": "white",
           "ticks": "",
           "title": {
            "standoff": 15
           },
           "zerolinecolor": "white",
           "zerolinewidth": 2
          }
         }
        },
        "title": {
         "text": "LLC vs. epsilon and beta"
        }
       }
      }
     },
     "metadata": {},
     "output_type": "display_data"
    }
   ],
   "source": [
    "analyzer.plot()"
   ]
  },
  {
   "cell_type": "markdown",
   "metadata": {
    "id": "LhWkZ18xeP-B"
   },
   "source": [
    "From this, we can see that the final LLC flattens out if epsilon > 0.001, so that's the epsilon parameter range we should go for. But we also have some dependence of the llc on beta, which is maybe linear from the looks of it? We get our LLC estimates by taking (sampled_loss - initial_loss) * nbeta, so maybe that final nbeta term is what we're seeing here. Let's divide it out to see this better.\n",
    "\n",
    "(Note that this does not quite mean the LLC curve should be fully linear in nbeta, as the choice of nbeta can and does influence the SGLD sampling process and so can change the sampled loss.)"
   ]
  },
  {
   "cell_type": "code",
   "execution_count": 41,
   "metadata": {
    "colab": {
     "base_uri": "https://localhost:8080/",
     "height": 542
    },
    "id": "qT3R92hweP-B",
    "outputId": "38e3e86e-c5c0-4fc6-a7ba-115f44a390c7"
   },
   "outputs": [
    {
     "data": {
      "application/vnd.plotly.v1+json": {
       "config": {
        "plotlyServerURL": "https://plot.ly"
       },
       "data": [
        {
         "hovertemplate": "epsilon=%{x}<br>beta=%{y}<br>llc_div_beta=%{z}<br>llc/std_over_mean=%{marker.color}<extra></extra>",
         "legendgroup": "",
         "marker": {
          "color": {
           "bdata": "P+FdPuoNRD6PlWg+pTY+PnGduT6H5uw9axfEPRFTvD0aJUc+8ZOUQfoi1z1fr4M9cGXkPcKysz5qULc9vUOtPZ5WuD28BqE9qqeqPQ==",
           "dtype": "f4"
          },
          "coloraxis": "coloraxis",
          "symbol": "circle"
         },
         "mode": "markers",
         "name": "",
         "scene": "scene",
         "showlegend": false,
         "type": "scatter3d",
         "x": {
          "bdata": "bB1VTRB1/z5sHVVNEHX/PmwdVU0Qdf8+bB1VTRB1/z5sHVVNEHX/PmQyVTAqqTM/ZDJVMCqpMz9kMlUwKqkzP2QyVTAqqTM/ZDJVMCqpMz/8fmq8dJNoP/x+arx0k2g//H5qvHSTaD/8fmq8dJNoP7wehetRuJ4/vB6F61G4nj+8HoXrUbiePzIzMzMzM9M/MjMzMzMz0z8=",
          "dtype": "f8"
         },
         "y": {
          "bdata": "bVttJTfi0D8alIcR0cMSQCmAXoYU21RA4AUQN/wtl0Ch/XtlLcPZQG1bbSU34tA/GpSHEdHDEkApgF6GFNtUQOAFEDf8LZdAof17ZS3D2UBtW20lN+LQPxqUhxHRwxJAKYBehhTbVEDgBRA3/C2XQG1bbSU34tA/GpSHEdHDEkApgF6GFNtUQG1bbSU34tA/GpSHEdHDEkA=",
          "dtype": "f8"
         },
         "z": {
          "bdata": "kCE5XMgx0j9LGbydP7nRPxQi15Gq19A/p2p8KHnxuD9v8kFB2VZxP6+x65T/6RlAdS37bzhuH0DDHOrY0SsFQGto8n+MRsQ/nlvLRmXxYr84ugW+SKIrQB8cKPVmhidAHxu7Uo+YDEBlYYg/0t7bP6OTHX0SYStAumaCEIZDJ0DjdSwsSxwTQAmCLYOTizhAV2kEnlHFN0A=",
          "dtype": "f8"
         }
        }
       ],
       "layout": {
        "coloraxis": {
         "cmax": 0.15,
         "cmin": 0,
         "colorbar": {
          "title": {
           "text": "llc/std_over_mean"
          }
         },
         "colorscale": [
          [
           0,
           "#0d0887"
          ],
          [
           0.1111111111111111,
           "#46039f"
          ],
          [
           0.2222222222222222,
           "#7201a8"
          ],
          [
           0.3333333333333333,
           "#9c179e"
          ],
          [
           0.4444444444444444,
           "#bd3786"
          ],
          [
           0.5555555555555556,
           "#d8576b"
          ],
          [
           0.6666666666666666,
           "#ed7953"
          ],
          [
           0.7777777777777778,
           "#fb9f3a"
          ],
          [
           0.8888888888888888,
           "#fdca26"
          ],
          [
           1,
           "#f0f921"
          ]
         ]
        },
        "legend": {
         "tracegroupgap": 0
        },
        "scene": {
         "domain": {
          "x": [
           0,
           1
          ],
          "y": [
           0,
           1
          ]
         },
         "xaxis": {
          "title": {
           "text": "epsilon"
          },
          "type": "log"
         },
         "yaxis": {
          "title": {
           "text": "beta"
          },
          "type": "log"
         },
         "zaxis": {
          "title": {
           "text": "llc_div_beta"
          },
          "type": "log"
         }
        },
        "template": {
         "data": {
          "bar": [
           {
            "error_x": {
             "color": "#2a3f5f"
            },
            "error_y": {
             "color": "#2a3f5f"
            },
            "marker": {
             "line": {
              "color": "#E5ECF6",
              "width": 0.5
             },
             "pattern": {
              "fillmode": "overlay",
              "size": 10,
              "solidity": 0.2
             }
            },
            "type": "bar"
           }
          ],
          "barpolar": [
           {
            "marker": {
             "line": {
              "color": "#E5ECF6",
              "width": 0.5
             },
             "pattern": {
              "fillmode": "overlay",
              "size": 10,
              "solidity": 0.2
             }
            },
            "type": "barpolar"
           }
          ],
          "carpet": [
           {
            "aaxis": {
             "endlinecolor": "#2a3f5f",
             "gridcolor": "white",
             "linecolor": "white",
             "minorgridcolor": "white",
             "startlinecolor": "#2a3f5f"
            },
            "baxis": {
             "endlinecolor": "#2a3f5f",
             "gridcolor": "white",
             "linecolor": "white",
             "minorgridcolor": "white",
             "startlinecolor": "#2a3f5f"
            },
            "type": "carpet"
           }
          ],
          "choropleth": [
           {
            "colorbar": {
             "outlinewidth": 0,
             "ticks": ""
            },
            "type": "choropleth"
           }
          ],
          "contour": [
           {
            "colorbar": {
             "outlinewidth": 0,
             "ticks": ""
            },
            "colorscale": [
             [
              0,
              "#0d0887"
             ],
             [
              0.1111111111111111,
              "#46039f"
             ],
             [
              0.2222222222222222,
              "#7201a8"
             ],
             [
              0.3333333333333333,
              "#9c179e"
             ],
             [
              0.4444444444444444,
              "#bd3786"
             ],
             [
              0.5555555555555556,
              "#d8576b"
             ],
             [
              0.6666666666666666,
              "#ed7953"
             ],
             [
              0.7777777777777778,
              "#fb9f3a"
             ],
             [
              0.8888888888888888,
              "#fdca26"
             ],
             [
              1,
              "#f0f921"
             ]
            ],
            "type": "contour"
           }
          ],
          "contourcarpet": [
           {
            "colorbar": {
             "outlinewidth": 0,
             "ticks": ""
            },
            "type": "contourcarpet"
           }
          ],
          "heatmap": [
           {
            "colorbar": {
             "outlinewidth": 0,
             "ticks": ""
            },
            "colorscale": [
             [
              0,
              "#0d0887"
             ],
             [
              0.1111111111111111,
              "#46039f"
             ],
             [
              0.2222222222222222,
              "#7201a8"
             ],
             [
              0.3333333333333333,
              "#9c179e"
             ],
             [
              0.4444444444444444,
              "#bd3786"
             ],
             [
              0.5555555555555556,
              "#d8576b"
             ],
             [
              0.6666666666666666,
              "#ed7953"
             ],
             [
              0.7777777777777778,
              "#fb9f3a"
             ],
             [
              0.8888888888888888,
              "#fdca26"
             ],
             [
              1,
              "#f0f921"
             ]
            ],
            "type": "heatmap"
           }
          ],
          "histogram": [
           {
            "marker": {
             "pattern": {
              "fillmode": "overlay",
              "size": 10,
              "solidity": 0.2
             }
            },
            "type": "histogram"
           }
          ],
          "histogram2d": [
           {
            "colorbar": {
             "outlinewidth": 0,
             "ticks": ""
            },
            "colorscale": [
             [
              0,
              "#0d0887"
             ],
             [
              0.1111111111111111,
              "#46039f"
             ],
             [
              0.2222222222222222,
              "#7201a8"
             ],
             [
              0.3333333333333333,
              "#9c179e"
             ],
             [
              0.4444444444444444,
              "#bd3786"
             ],
             [
              0.5555555555555556,
              "#d8576b"
             ],
             [
              0.6666666666666666,
              "#ed7953"
             ],
             [
              0.7777777777777778,
              "#fb9f3a"
             ],
             [
              0.8888888888888888,
              "#fdca26"
             ],
             [
              1,
              "#f0f921"
             ]
            ],
            "type": "histogram2d"
           }
          ],
          "histogram2dcontour": [
           {
            "colorbar": {
             "outlinewidth": 0,
             "ticks": ""
            },
            "colorscale": [
             [
              0,
              "#0d0887"
             ],
             [
              0.1111111111111111,
              "#46039f"
             ],
             [
              0.2222222222222222,
              "#7201a8"
             ],
             [
              0.3333333333333333,
              "#9c179e"
             ],
             [
              0.4444444444444444,
              "#bd3786"
             ],
             [
              0.5555555555555556,
              "#d8576b"
             ],
             [
              0.6666666666666666,
              "#ed7953"
             ],
             [
              0.7777777777777778,
              "#fb9f3a"
             ],
             [
              0.8888888888888888,
              "#fdca26"
             ],
             [
              1,
              "#f0f921"
             ]
            ],
            "type": "histogram2dcontour"
           }
          ],
          "mesh3d": [
           {
            "colorbar": {
             "outlinewidth": 0,
             "ticks": ""
            },
            "type": "mesh3d"
           }
          ],
          "parcoords": [
           {
            "line": {
             "colorbar": {
              "outlinewidth": 0,
              "ticks": ""
             }
            },
            "type": "parcoords"
           }
          ],
          "pie": [
           {
            "automargin": true,
            "type": "pie"
           }
          ],
          "scatter": [
           {
            "fillpattern": {
             "fillmode": "overlay",
             "size": 10,
             "solidity": 0.2
            },
            "type": "scatter"
           }
          ],
          "scatter3d": [
           {
            "line": {
             "colorbar": {
              "outlinewidth": 0,
              "ticks": ""
             }
            },
            "marker": {
             "colorbar": {
              "outlinewidth": 0,
              "ticks": ""
             }
            },
            "type": "scatter3d"
           }
          ],
          "scattercarpet": [
           {
            "marker": {
             "colorbar": {
              "outlinewidth": 0,
              "ticks": ""
             }
            },
            "type": "scattercarpet"
           }
          ],
          "scattergeo": [
           {
            "marker": {
             "colorbar": {
              "outlinewidth": 0,
              "ticks": ""
             }
            },
            "type": "scattergeo"
           }
          ],
          "scattergl": [
           {
            "marker": {
             "colorbar": {
              "outlinewidth": 0,
              "ticks": ""
             }
            },
            "type": "scattergl"
           }
          ],
          "scattermap": [
           {
            "marker": {
             "colorbar": {
              "outlinewidth": 0,
              "ticks": ""
             }
            },
            "type": "scattermap"
           }
          ],
          "scattermapbox": [
           {
            "marker": {
             "colorbar": {
              "outlinewidth": 0,
              "ticks": ""
             }
            },
            "type": "scattermapbox"
           }
          ],
          "scatterpolar": [
           {
            "marker": {
             "colorbar": {
              "outlinewidth": 0,
              "ticks": ""
             }
            },
            "type": "scatterpolar"
           }
          ],
          "scatterpolargl": [
           {
            "marker": {
             "colorbar": {
              "outlinewidth": 0,
              "ticks": ""
             }
            },
            "type": "scatterpolargl"
           }
          ],
          "scatterternary": [
           {
            "marker": {
             "colorbar": {
              "outlinewidth": 0,
              "ticks": ""
             }
            },
            "type": "scatterternary"
           }
          ],
          "surface": [
           {
            "colorbar": {
             "outlinewidth": 0,
             "ticks": ""
            },
            "colorscale": [
             [
              0,
              "#0d0887"
             ],
             [
              0.1111111111111111,
              "#46039f"
             ],
             [
              0.2222222222222222,
              "#7201a8"
             ],
             [
              0.3333333333333333,
              "#9c179e"
             ],
             [
              0.4444444444444444,
              "#bd3786"
             ],
             [
              0.5555555555555556,
              "#d8576b"
             ],
             [
              0.6666666666666666,
              "#ed7953"
             ],
             [
              0.7777777777777778,
              "#fb9f3a"
             ],
             [
              0.8888888888888888,
              "#fdca26"
             ],
             [
              1,
              "#f0f921"
             ]
            ],
            "type": "surface"
           }
          ],
          "table": [
           {
            "cells": {
             "fill": {
              "color": "#EBF0F8"
             },
             "line": {
              "color": "white"
             }
            },
            "header": {
             "fill": {
              "color": "#C8D4E3"
             },
             "line": {
              "color": "white"
             }
            },
            "type": "table"
           }
          ]
         },
         "layout": {
          "annotationdefaults": {
           "arrowcolor": "#2a3f5f",
           "arrowhead": 0,
           "arrowwidth": 1
          },
          "autotypenumbers": "strict",
          "coloraxis": {
           "colorbar": {
            "outlinewidth": 0,
            "ticks": ""
           }
          },
          "colorscale": {
           "diverging": [
            [
             0,
             "#8e0152"
            ],
            [
             0.1,
             "#c51b7d"
            ],
            [
             0.2,
             "#de77ae"
            ],
            [
             0.3,
             "#f1b6da"
            ],
            [
             0.4,
             "#fde0ef"
            ],
            [
             0.5,
             "#f7f7f7"
            ],
            [
             0.6,
             "#e6f5d0"
            ],
            [
             0.7,
             "#b8e186"
            ],
            [
             0.8,
             "#7fbc41"
            ],
            [
             0.9,
             "#4d9221"
            ],
            [
             1,
             "#276419"
            ]
           ],
           "sequential": [
            [
             0,
             "#0d0887"
            ],
            [
             0.1111111111111111,
             "#46039f"
            ],
            [
             0.2222222222222222,
             "#7201a8"
            ],
            [
             0.3333333333333333,
             "#9c179e"
            ],
            [
             0.4444444444444444,
             "#bd3786"
            ],
            [
             0.5555555555555556,
             "#d8576b"
            ],
            [
             0.6666666666666666,
             "#ed7953"
            ],
            [
             0.7777777777777778,
             "#fb9f3a"
            ],
            [
             0.8888888888888888,
             "#fdca26"
            ],
            [
             1,
             "#f0f921"
            ]
           ],
           "sequentialminus": [
            [
             0,
             "#0d0887"
            ],
            [
             0.1111111111111111,
             "#46039f"
            ],
            [
             0.2222222222222222,
             "#7201a8"
            ],
            [
             0.3333333333333333,
             "#9c179e"
            ],
            [
             0.4444444444444444,
             "#bd3786"
            ],
            [
             0.5555555555555556,
             "#d8576b"
            ],
            [
             0.6666666666666666,
             "#ed7953"
            ],
            [
             0.7777777777777778,
             "#fb9f3a"
            ],
            [
             0.8888888888888888,
             "#fdca26"
            ],
            [
             1,
             "#f0f921"
            ]
           ]
          },
          "colorway": [
           "#636efa",
           "#EF553B",
           "#00cc96",
           "#ab63fa",
           "#FFA15A",
           "#19d3f3",
           "#FF6692",
           "#B6E880",
           "#FF97FF",
           "#FECB52"
          ],
          "font": {
           "color": "#2a3f5f"
          },
          "geo": {
           "bgcolor": "white",
           "lakecolor": "white",
           "landcolor": "#E5ECF6",
           "showlakes": true,
           "showland": true,
           "subunitcolor": "white"
          },
          "hoverlabel": {
           "align": "left"
          },
          "hovermode": "closest",
          "mapbox": {
           "style": "light"
          },
          "paper_bgcolor": "white",
          "plot_bgcolor": "#E5ECF6",
          "polar": {
           "angularaxis": {
            "gridcolor": "white",
            "linecolor": "white",
            "ticks": ""
           },
           "bgcolor": "#E5ECF6",
           "radialaxis": {
            "gridcolor": "white",
            "linecolor": "white",
            "ticks": ""
           }
          },
          "scene": {
           "xaxis": {
            "backgroundcolor": "#E5ECF6",
            "gridcolor": "white",
            "gridwidth": 2,
            "linecolor": "white",
            "showbackground": true,
            "ticks": "",
            "zerolinecolor": "white"
           },
           "yaxis": {
            "backgroundcolor": "#E5ECF6",
            "gridcolor": "white",
            "gridwidth": 2,
            "linecolor": "white",
            "showbackground": true,
            "ticks": "",
            "zerolinecolor": "white"
           },
           "zaxis": {
            "backgroundcolor": "#E5ECF6",
            "gridcolor": "white",
            "gridwidth": 2,
            "linecolor": "white",
            "showbackground": true,
            "ticks": "",
            "zerolinecolor": "white"
           }
          },
          "shapedefaults": {
           "line": {
            "color": "#2a3f5f"
           }
          },
          "ternary": {
           "aaxis": {
            "gridcolor": "white",
            "linecolor": "white",
            "ticks": ""
           },
           "baxis": {
            "gridcolor": "white",
            "linecolor": "white",
            "ticks": ""
           },
           "bgcolor": "#E5ECF6",
           "caxis": {
            "gridcolor": "white",
            "linecolor": "white",
            "ticks": ""
           }
          },
          "title": {
           "x": 0.05
          },
          "xaxis": {
           "automargin": true,
           "gridcolor": "white",
           "linecolor": "white",
           "ticks": "",
           "title": {
            "standoff": 15
           },
           "zerolinecolor": "white",
           "zerolinewidth": 2
          },
          "yaxis": {
           "automargin": true,
           "gridcolor": "white",
           "linecolor": "white",
           "ticks": "",
           "title": {
            "standoff": 15
           },
           "zerolinecolor": "white",
           "zerolinewidth": 2
          }
         }
        },
        "title": {
         "text": "LLC / beta vs. epsilon and beta"
        }
       }
      }
     },
     "metadata": {},
     "output_type": "display_data"
    }
   ],
   "source": [
    "analyzer.plot(div_out_beta=True)"
   ]
  },
  {
   "cell_type": "markdown",
   "metadata": {
    "id": "DlGfy4ZAeP-C"
   },
   "source": [
    "From this, we can see that the effective sampled loss for low-ish nbetas (<100) shows very little dependence on the exact choice of nbeta. So let's a point in this flat region (~1), and a high-but-still-in-the-flat-region epsilon (0.03), so we don't need to run many draws, but still have little dependence of our samples on epsilon.\n",
    "\n",
    "Let's check that the loss chain for these hyperparams looks decent, and then run LLC estimation on all trained checkpoints if it does."
   ]
  },
  {
   "cell_type": "code",
   "execution_count": 42,
   "metadata": {
    "id": "9vVC0yMSeP-E"
   },
   "outputs": [],
   "source": [
    "lr = 3e-3\n",
    "gamma = 5\n",
    "nbeta = 2.0\n",
    "num_draws = 500\n",
    "num_chains = 2"
   ]
  },
  {
   "cell_type": "code",
   "execution_count": 43,
   "metadata": {
    "colab": {
     "base_uri": "https://localhost:8080/"
    },
    "id": "_bBq6sUXeP-H",
    "outputId": "e1dd4c1a-ce63-48e2-c7f8-2b0549c91c09"
   },
   "outputs": [
    {
     "name": "stderr",
     "output_type": "stream",
     "text": [
      "/ibex/user/rossom/conda-environments/myenv/lib/python3.9/site-packages/devinterp/slt/sampler.py:117: UserWarning:\n",
      "\n",
      "Using passed in nbeta. Make sure callbacks are also initialized with the same nbeta.\n",
      "\n",
      "/ibex/user/rossom/conda-environments/myenv/lib/python3.9/site-packages/devinterp/backends/default/slt/sampler.py:240: UserWarning:\n",
      "\n",
      "You are taking more draws than burn-in steps, your LLC estimates will likely be underestimates. Please check LLC chain convergence.\n",
      "\n",
      "/ibex/user/rossom/conda-environments/myenv/lib/python3.9/site-packages/devinterp/backends/default/slt/sampler.py:244: UserWarning:\n",
      "\n",
      "You are taking more sample batches than there are dataloader batches available, this removes some randomness from sampling but is probably fine. (All sample batches beyond the number dataloader batches are cycled from the start, f.e. 9 samples from [A, B, C] would be [B, A, C, B, A, C, B, A, C].)\n",
      "\n",
      "/ibex/user/rossom/conda-environments/myenv/lib/python3.9/site-packages/devinterp/backends/default/slt/sampler.py:285: UserWarning:\n",
      "\n",
      "If you're setting a nbeta or temperature in optimizer_kwargs, please also make sure to set it in the callbacks.\n",
      "\n",
      "/ibex/user/rossom/conda-environments/myenv/lib/python3.9/site-packages/devinterp/backends/default/slt/sampler.py:52: UserWarning:\n",
      "\n",
      "You are taking more sample batches than there are dataloader batches available, this removes some randomness from sampling but is probably fine. (All sample batches beyond the number dataloader batches are cycled from the start, f.e. 9 samples from [A, B, C] would be [B, A, C, B, A, C, B, A, C].)\n",
      "\n",
      "Chain 0: 100%|██████████| 1500/1500 [00:04<00:00, 353.70it/s]\n",
      "Chain 1: 100%|██████████| 1500/1500 [00:04<00:00, 352.96it/s]\n",
      "Chain 2: 100%|██████████| 1500/1500 [00:04<00:00, 352.86it/s]\n"
     ]
    }
   ],
   "source": [
    "learning_coeff_stats = estimate_learning_coeff_with_summary(\n",
    "    all_checkpointed_models[-1],\n",
    "    loader=DataLoader(train_data, batch_size=params.batch_size, shuffle=True),\n",
    "    evaluate=evaluate_ce,\n",
    "    sampling_method=SGLD,\n",
    "    optimizer_kwargs=dict(lr=0.03, nbeta=2.0, localization=5.0),\n",
    "    num_chains=3,\n",
    "    num_draws=1500,\n",
    "    device=DEVICE,\n",
    "    online=True,\n",
    ")\n",
    "trace = learning_coeff_stats[\"loss/trace\"]"
   ]
  },
  {
   "cell_type": "code",
   "execution_count": 51,
   "metadata": {
    "colab": {
     "base_uri": "https://localhost:8080/",
     "height": 490
    },
    "id": "U7A9q8PVeP-I",
    "outputId": "0e29f3c9-1b49-4a74-d4ee-93d187cda33d"
   },
   "outputs": [
    {
     "data": {
      "image/png": "[encoded data removed]",
      "text/plain": [
       "<Figure size 400x300 with 1 Axes>"
      ]
     },
     "metadata": {},
     "output_type": "display_data"
    }
   ],
   "source": [
    "from devinterp.utils import plot_trace\n",
    "\n",
    "\"\"\"\n",
    "plot_trace(\n",
    "    trace,\n",
    "    \"Loss\",\n",
    "    x_axis=\"Step\",\n",
    "    title=f\"Loss Trace, avg LLC = {sum(learning_coeff_stats['llc/means']) / len(learning_coeff_stats['llc/means']):.2f}\",\n",
    "    plot_mean=False,\n",
    "    plot_std=False,\n",
    "    fig_size=(12, 9),\n",
    "    true_lc=None,\n",
    ")\n",
    "\"\"\"\n",
    "\n",
    "num_chains, num_draws = trace.shape\n",
    "true_lc = None\n",
    "title=f\"Loss Trace, avg LLC = {sum(learning_coeff_stats['llc/means']) / len(learning_coeff_stats['llc/means']):.2f}\"\n",
    "y_axis = \"Loss\"\n",
    "x_axis=\"Step\"\n",
    "fig_size=(4, 3)\n",
    "plt.figure(figsize=fig_size)\n",
    "sgld_step = list(range(num_draws))\n",
    "if true_lc:\n",
    "    plt.axhline(y=true_lc, color=\"r\", linestyle=\"dashed\")\n",
    "# trace\n",
    "for i in range(num_chains):\n",
    "    draws = trace[i]\n",
    "    plt.plot(sgld_step, draws, linewidth=1, label=f\"chain {i}\")\n",
    "\n",
    "# mean\n",
    "mean = np.mean(trace, axis=0)\n",
    "plt.plot(\n",
    "    sgld_step,\n",
    "    mean,\n",
    "    color=\"black\",\n",
    "    linestyle=\"--\",\n",
    "    linewidth=2,\n",
    "    label=\"mean\",\n",
    "    zorder=3,\n",
    ")\n",
    "\n",
    "# std\n",
    "std = np.std(trace, axis=0)\n",
    "plt.fill_between(\n",
    "    sgld_step, mean - std, mean + std, color=\"gray\", alpha=0.3, zorder=2\n",
    ")\n",
    "\n",
    "if title is None:\n",
    "    title = f\"{y_axis} values over sampling draws\"\n",
    "plt.legend()\n",
    "plt.title(title)\n",
    "plt.xlabel(x_axis)\n",
    "plt.ylabel(y_axis)\n",
    "plt.tight_layout()\n",
    "plt.savefig(f'grokking_llc.pdf', dpi=300, bbox_inches='tight')\n",
    "plt.show()"
   ]
  },
  {
   "cell_type": "markdown",
   "metadata": {
    "id": "cj1Jr9kIeP-K"
   },
   "source": [
    "This looks good! The loss flattens out nicely, and well within the num_draws we chose. Looks like we can get away with using 500 draws, as the loss trace has well flattened out by then."
   ]
  },
  {
   "cell_type": "code",
   "execution_count": 52,
   "metadata": {
    "colab": {
     "base_uri": "https://localhost:8080/"
    },
    "id": "WJfjqhXdeP-L",
    "outputId": "017daa08-db49-4f39-ea1f-2da1e9a4aa86"
   },
   "outputs": [
    {
     "name": "stderr",
     "output_type": "stream",
     "text": [
      "/ibex/user/rossom/conda-environments/myenv/lib/python3.9/site-packages/devinterp/slt/sampler.py:117: UserWarning:\n",
      "\n",
      "Using passed in nbeta. Make sure callbacks are also initialized with the same nbeta.\n",
      "\n",
      "/ibex/user/rossom/conda-environments/myenv/lib/python3.9/site-packages/devinterp/backends/default/slt/sampler.py:240: UserWarning:\n",
      "\n",
      "You are taking more draws than burn-in steps, your LLC estimates will likely be underestimates. Please check LLC chain convergence.\n",
      "\n",
      "/ibex/user/rossom/conda-environments/myenv/lib/python3.9/site-packages/devinterp/backends/default/slt/sampler.py:244: UserWarning:\n",
      "\n",
      "You are taking more sample batches than there are dataloader batches available, this removes some randomness from sampling but is probably fine. (All sample batches beyond the number dataloader batches are cycled from the start, f.e. 9 samples from [A, B, C] would be [B, A, C, B, A, C, B, A, C].)\n",
      "\n",
      "/ibex/user/rossom/conda-environments/myenv/lib/python3.9/site-packages/devinterp/backends/default/slt/sampler.py:285: UserWarning:\n",
      "\n",
      "If you're setting a nbeta or temperature in optimizer_kwargs, please also make sure to set it in the callbacks.\n",
      "\n",
      "/ibex/user/rossom/conda-environments/myenv/lib/python3.9/site-packages/devinterp/backends/default/slt/sampler.py:52: UserWarning:\n",
      "\n",
      "You are taking more sample batches than there are dataloader batches available, this removes some randomness from sampling but is probably fine. (All sample batches beyond the number dataloader batches are cycled from the start, f.e. 9 samples from [A, B, C] would be [B, A, C, B, A, C, B, A, C].)\n",
      "\n",
      "Chain 0: 100%|██████████| 1500/1500 [00:04<00:00, 364.25it/s]\n",
      "/ibex/user/rossom/conda-environments/myenv/lib/python3.9/site-packages/devinterp/slt/llc.py:109: UserWarning:\n",
      "\n",
      "std(): degrees of freedom is <= 0. Correction should be strictly less than the reduction factor (input numel divided by output numel). (Triggered internally at /opt/conda/conda-bld/pytorch_1724789115370/work/aten/src/ATen/native/ReduceOps.cpp:1808.)\n",
      "\n",
      "Chain 0: 100%|██████████| 1500/1500 [00:04<00:00, 364.25it/s]\n",
      "Chain 0: 100%|██████████| 1500/1500 [00:04<00:00, 368.74it/s]\n",
      "Chain 0: 100%|██████████| 1500/1500 [00:04<00:00, 363.49it/s]\n",
      "Chain 0: 100%|██████████| 1500/1500 [00:04<00:00, 358.04it/s]\n",
      "Chain 0: 100%|██████████| 1500/1500 [00:04<00:00, 360.22it/s]\n",
      "Chain 0: 100%|██████████| 1500/1500 [00:04<00:00, 362.98it/s]\n",
      "Chain 0: 100%|██████████| 1500/1500 [00:04<00:00, 358.06it/s]\n",
      "Chain 0: 100%|██████████| 1500/1500 [00:04<00:00, 362.63it/s]\n",
      "Chain 0: 100%|██████████| 1500/1500 [00:04<00:00, 370.60it/s]\n",
      "Chain 0: 100%|██████████| 1500/1500 [00:04<00:00, 371.72it/s]\n",
      "Chain 0: 100%|██████████| 1500/1500 [00:04<00:00, 368.87it/s]\n",
      "Chain 0: 100%|██████████| 1500/1500 [00:04<00:00, 367.93it/s]\n",
      "Chain 0: 100%|██████████| 1500/1500 [00:04<00:00, 369.83it/s]\n",
      "Chain 0: 100%|██████████| 1500/1500 [00:04<00:00, 360.69it/s]\n",
      "Chain 0: 100%|██████████| 1500/1500 [00:04<00:00, 354.69it/s]\n",
      "Chain 0: 100%|██████████| 1500/1500 [00:04<00:00, 358.55it/s]\n",
      "Chain 0: 100%|██████████| 1500/1500 [00:04<00:00, 356.36it/s]\n",
      "Chain 0: 100%|██████████| 1500/1500 [00:04<00:00, 355.70it/s]\n",
      "Chain 0: 100%|██████████| 1500/1500 [00:04<00:00, 360.89it/s]\n",
      "Chain 0: 100%|██████████| 1500/1500 [00:04<00:00, 361.57it/s]\n",
      "Chain 0: 100%|██████████| 1500/1500 [00:04<00:00, 361.46it/s]\n",
      "Chain 0: 100%|██████████| 1500/1500 [00:04<00:00, 360.02it/s]\n",
      "Chain 0: 100%|██████████| 1500/1500 [00:04<00:00, 361.59it/s]\n",
      "Chain 0: 100%|██████████| 1500/1500 [00:04<00:00, 357.72it/s]\n",
      "Chain 0: 100%|██████████| 1500/1500 [00:04<00:00, 355.45it/s]\n",
      "Chain 0: 100%|██████████| 1500/1500 [00:04<00:00, 365.58it/s]\n",
      "Chain 0: 100%|██████████| 1500/1500 [00:04<00:00, 365.32it/s]\n",
      "Chain 0: 100%|██████████| 1500/1500 [00:04<00:00, 356.45it/s]\n",
      "Chain 0: 100%|██████████| 1500/1500 [00:04<00:00, 353.39it/s]\n",
      "Chain 0: 100%|██████████| 1500/1500 [00:04<00:00, 353.54it/s]\n",
      "Chain 0: 100%|██████████| 1500/1500 [00:04<00:00, 354.33it/s]\n",
      "Chain 0: 100%|██████████| 1500/1500 [00:04<00:00, 353.42it/s]\n",
      "Chain 0: 100%|██████████| 1500/1500 [00:04<00:00, 353.24it/s]\n",
      "Chain 0: 100%|██████████| 1500/1500 [00:04<00:00, 353.03it/s]\n",
      "Chain 0: 100%|██████████| 1500/1500 [00:04<00:00, 353.43it/s]\n",
      "Chain 0: 100%|██████████| 1500/1500 [00:04<00:00, 353.01it/s]\n",
      "Chain 0: 100%|██████████| 1500/1500 [00:04<00:00, 354.23it/s]\n",
      "Chain 0: 100%|██████████| 1500/1500 [00:04<00:00, 362.32it/s]\n",
      "Chain 0: 100%|██████████| 1500/1500 [00:04<00:00, 367.47it/s]\n",
      "Chain 0: 100%|██████████| 1500/1500 [00:04<00:00, 357.99it/s]\n",
      "Chain 0: 100%|██████████| 1500/1500 [00:04<00:00, 363.85it/s]\n",
      "Chain 0: 100%|██████████| 1500/1500 [00:04<00:00, 366.88it/s]\n",
      "Chain 0: 100%|██████████| 1500/1500 [00:04<00:00, 367.14it/s]\n",
      "Chain 0: 100%|██████████| 1500/1500 [00:04<00:00, 368.78it/s]\n",
      "Chain 0: 100%|██████████| 1500/1500 [00:04<00:00, 359.98it/s]\n",
      "Chain 0: 100%|██████████| 1500/1500 [00:04<00:00, 356.46it/s]\n",
      "Chain 0: 100%|██████████| 1500/1500 [00:04<00:00, 355.00it/s]\n",
      "Chain 0: 100%|██████████| 1500/1500 [00:04<00:00, 363.19it/s]\n",
      "Chain 0: 100%|██████████| 1500/1500 [00:04<00:00, 363.04it/s]\n",
      "Chain 0: 100%|██████████| 1500/1500 [00:04<00:00, 363.69it/s]\n",
      "Chain 0: 100%|██████████| 1500/1500 [00:04<00:00, 355.60it/s]\n",
      "Chain 0: 100%|██████████| 1500/1500 [00:04<00:00, 364.81it/s]\n",
      "Chain 0: 100%|██████████| 1500/1500 [00:04<00:00, 371.47it/s]\n",
      "Chain 0: 100%|██████████| 1500/1500 [00:04<00:00, 371.26it/s]\n",
      "Chain 0: 100%|██████████| 1500/1500 [00:04<00:00, 371.09it/s]\n",
      "Chain 0: 100%|██████████| 1500/1500 [00:04<00:00, 356.97it/s]\n",
      "Chain 0: 100%|██████████| 1500/1500 [00:04<00:00, 365.77it/s]\n",
      "Chain 0: 100%|██████████| 1500/1500 [00:04<00:00, 368.87it/s]\n",
      "Chain 0: 100%|██████████| 1500/1500 [00:04<00:00, 369.65it/s]\n",
      "Chain 0: 100%|██████████| 1500/1500 [00:04<00:00, 373.61it/s]\n",
      "Chain 0: 100%|██████████| 1500/1500 [00:04<00:00, 372.80it/s]\n",
      "Chain 0: 100%|██████████| 1500/1500 [00:04<00:00, 361.70it/s]\n",
      "Chain 0: 100%|██████████| 1500/1500 [00:04<00:00, 360.56it/s]\n",
      "Chain 0: 100%|██████████| 1500/1500 [00:04<00:00, 363.07it/s]\n",
      "Chain 0: 100%|██████████| 1500/1500 [00:04<00:00, 359.24it/s]\n",
      "Chain 0: 100%|██████████| 1500/1500 [00:04<00:00, 356.23it/s]\n",
      "Chain 0: 100%|██████████| 1500/1500 [00:04<00:00, 355.63it/s]\n",
      "Chain 0: 100%|██████████| 1500/1500 [00:04<00:00, 370.18it/s]\n",
      "Chain 0: 100%|██████████| 1500/1500 [00:04<00:00, 373.47it/s]\n",
      "Chain 0: 100%|██████████| 1500/1500 [00:04<00:00, 372.78it/s]\n",
      "Chain 0: 100%|██████████| 1500/1500 [00:04<00:00, 371.19it/s]\n",
      "Chain 0: 100%|██████████| 1500/1500 [00:04<00:00, 369.09it/s]\n",
      "Chain 0: 100%|██████████| 1500/1500 [00:04<00:00, 363.86it/s]\n",
      "Chain 0: 100%|██████████| 1500/1500 [00:04<00:00, 360.57it/s]\n",
      "Chain 0: 100%|██████████| 1500/1500 [00:04<00:00, 367.57it/s]\n",
      "Chain 0: 100%|██████████| 1500/1500 [00:04<00:00, 371.32it/s]\n",
      "Chain 0: 100%|██████████| 1500/1500 [00:04<00:00, 371.77it/s]\n",
      "Chain 0: 100%|██████████| 1500/1500 [00:04<00:00, 369.49it/s]\n",
      "Chain 0: 100%|██████████| 1500/1500 [00:04<00:00, 369.24it/s]\n",
      "Chain 0: 100%|██████████| 1500/1500 [00:04<00:00, 361.37it/s]\n",
      "Chain 0: 100%|██████████| 1500/1500 [00:04<00:00, 354.89it/s]\n",
      "Chain 0: 100%|██████████| 1500/1500 [00:04<00:00, 369.84it/s]\n",
      "Chain 0: 100%|██████████| 1500/1500 [00:04<00:00, 366.87it/s]\n",
      "Chain 0: 100%|██████████| 1500/1500 [00:04<00:00, 371.49it/s]\n",
      "Chain 0: 100%|██████████| 1500/1500 [00:04<00:00, 367.19it/s]\n",
      "Chain 0: 100%|██████████| 1500/1500 [00:04<00:00, 370.23it/s]\n",
      "Chain 0: 100%|██████████| 1500/1500 [00:04<00:00, 368.90it/s]\n",
      "Chain 0: 100%|██████████| 1500/1500 [00:04<00:00, 372.77it/s]\n",
      "Chain 0: 100%|██████████| 1500/1500 [00:04<00:00, 363.06it/s]\n",
      "Chain 0: 100%|██████████| 1500/1500 [00:04<00:00, 364.78it/s]\n",
      "Chain 0: 100%|██████████| 1500/1500 [00:04<00:00, 354.78it/s]\n",
      "Chain 0: 100%|██████████| 1500/1500 [00:04<00:00, 366.01it/s]\n",
      "Chain 0: 100%|██████████| 1500/1500 [00:04<00:00, 365.72it/s]\n",
      "Chain 0: 100%|██████████| 1500/1500 [00:04<00:00, 360.81it/s]\n",
      "Chain 0: 100%|██████████| 1500/1500 [00:04<00:00, 360.54it/s]\n",
      "Chain 0: 100%|██████████| 1500/1500 [00:04<00:00, 360.59it/s]\n",
      "Chain 0: 100%|██████████| 1500/1500 [00:04<00:00, 360.45it/s]\n",
      "Chain 0: 100%|██████████| 1500/1500 [00:04<00:00, 361.90it/s]\n",
      "Chain 0: 100%|██████████| 1500/1500 [00:04<00:00, 365.87it/s]\n"
     ]
    }
   ],
   "source": [
    "llcs = [\n",
    "    estimate_learning_coeff_with_summary(\n",
    "        model_checkpoint,\n",
    "        loader=DataLoader(train_data, batch_size=params.batch_size, shuffle=True),\n",
    "        evaluate=evaluate_ce,\n",
    "        sampling_method=SGLD,\n",
    "        optimizer_kwargs=dict(lr=lr, nbeta=nbeta, localization=gamma),\n",
    "        num_chains=1,\n",
    "        num_draws=num_draws,\n",
    "        device=DEVICE,\n",
    "        online=False,\n",
    "    )\n",
    "    for model_checkpoint in all_checkpointed_models\n",
    "]"
   ]
  },
  {
   "cell_type": "code",
   "execution_count": 75,
   "metadata": {
    "colab": {
     "base_uri": "https://localhost:8080/",
     "height": 945
    },
    "id": "r0pc1PKCeP-M",
    "outputId": "2a0c0a32-5edc-4e66-ac18-fc472fb92f6b"
   },
   "outputs": [
    {
     "data": {
      "image/png": "[encoded data removed]",
      "text/plain": [
       "<Figure size 800x400 with 4 Axes>"
      ]
     },
     "metadata": {},
     "output_type": "display_data"
    }
   ],
   "source": [
    "fig, axs = plt.subplots(1, 2, figsize=(8, 4))\n",
    "\n",
    "# --- First subplot: Accuracy + LLC ---\n",
    "ax1 = axs[0]\n",
    "ax2 = ax1.twinx()\n",
    "ax1.set_title(f\"LLC vs Accuracy (p={params.p})\")\n",
    "ax1.plot(df[\"val_acc\"], label=\"Val Acc\", color='tab:blue')\n",
    "ax1.plot(df[\"train_acc\"], label=\"Train Acc\", color='tab:orange')\n",
    "ax2.plot([llc[\"llc/mean\"] for llc in llcs], label=\"Lambdahat\", color=\"green\")\n",
    "\n",
    "ax1.set_xlabel(\"Checkpoint\")\n",
    "ax1.set_ylabel(\"Accuracy %\")\n",
    "ax2.set_ylabel(\"LLC\")\n",
    "\n",
    "# --- Second subplot: Loss + LLC ---\n",
    "ax3 = axs[1]\n",
    "ax4 = ax3.twinx()\n",
    "ax3.set_title(f\"LLC vs Loss (p={params.p})\")\n",
    "ax3.plot(df[\"val_loss\"], label=\"Val Loss\", color='tab:blue')\n",
    "ax3.plot(df[\"train_loss\"], label=\"Train Loss\", color='tab:orange')\n",
    "ax4.plot([llc[\"llc/mean\"] for llc in llcs], label=\"Lambdahat\", color=\"green\")\n",
    "\n",
    "ax3.set_xlabel(\"Checkpoint\")\n",
    "ax3.set_ylabel(\"Loss\")\n",
    "ax4.set_ylabel(\"LLC\")\n",
    "\n",
    "handles1, labels1 = ax1.get_legend_handles_labels()\n",
    "handles3, labels3 = ax3.get_legend_handles_labels()\n",
    "handles4, labels4 = ax4.get_legend_handles_labels()\n",
    "all_handles = handles1 + handles3 + handles4\n",
    "all_labels = labels1 + labels3 + labels4\n",
    "fig.legend(all_handles, all_labels, loc=\"lower center\", ncol=3)\n",
    "\n",
    "plt.tight_layout()  # leave space at bottom for legend\n",
    "plt.savefig(f'grokking_llc_all_checkpoints.pdf', dpi=300, bbox_inches='tight')\n",
    "plt.show()\n"
   ]
  },
  {
   "cell_type": "markdown",
   "metadata": {
    "id": "ZhnimJrWeP-Q"
   },
   "source": [
    "That's interesting!\n",
    "\n",
    "In the first plot, we see that the LLC first increases during memorization and then decreases ~smoothly afterward, flattening out after the model is done grokking. This is basically what we would expect from a simple reading of phase transitions in the free energy formula.\n",
    "\n",
    "From the second plot, we see that the LLC, which was measured only on the train set, tracks the test loss pretty well. That was a big surprise for me when I made this notebook, and I don't know what it means.\n",
    "\n",
    "Anyway, I hope this notebook clarifies how one can use the devinterp library and LLC estimation more generally to gain insight in the development of structure in neural networks. Thanks for reading!"
   ]
  }
 ],
 "metadata": {
  "accelerator": "GPU",
  "colab": {
   "gpuType": "T4",
   "provenance": []
  },
  "kernelspec": {
   "display_name": "Python 3 (ipykernel)",
   "language": "python",
   "name": "python3"
  },
  "language_info": {
   "codemirror_mode": {
    "name": "ipython",
    "version": 3
   },
   "file_extension": ".py",
   "mimetype": "text/x-python",
   "name": "python",
   "nbconvert_exporter": "python",
   "pygments_lexer": "ipython3",
   "version": "3.9.19"
  },
  "orig_nbformat": 4
 },
 "nbformat": 4,
 "nbformat_minor": 0
}
